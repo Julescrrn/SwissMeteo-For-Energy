{
 "cells": [
  {
   "metadata": {},
   "cell_type": "markdown",
   "source": [
    "# Swiss Meteorological Data Extraction\n",
    "\n",
    "This notebook extracts meteorological data from multiple weather stations across Switzerland using the STAC API from MeteoSwiss.\n",
    "\n",
    "## What this notebook does:\n",
    "\n",
    "1. **Data Collection**: Downloads hourly meteorological data from 23 weather stations distributed across all Swiss cantons\n",
    "2. **Variables Retrieved**:\n",
    "   - Air temperature\n",
    "   - Atmospheric pressure\n",
    "   - Rainfall\n",
    "   - Humidity\n",
    "   - Wind direction and speed\n",
    "   - Global radiation\n",
    "   - Irradiation\n",
    "\n",
    "3. **Data Processing**:\n",
    "   - Filters data for a specified time range\n",
    "   - Removes columns containing only NaN values\n",
    "   - Creates population-weighted global averages (optional)\n",
    "   - Concatenates all station data horizontally with station-specific column suffixes\n",
    "\n",
    "4. **Output**: Saves the processed data as a compressed Parquet file for efficient storage and fast loading\n",
    "\n",
    "The resulting dataset provides a comprehensive view of Swiss weather patterns, useful for energy demand forecasting, climate analysis, and other applications."
   ],
   "id": "b52cae2e9332cb12"
  },
  {
   "metadata": {
    "ExecuteTime": {
     "end_time": "2025-10-22T19:29:38.955924Z",
     "start_time": "2025-10-22T19:29:38.945244Z"
    }
   },
   "cell_type": "code",
   "source": [
    "import sys\n",
    "import os\n",
    "import matplotlib.pyplot as plt\n",
    "sys.path.append(os.path.abspath(r\"/\"))\n",
    "from modules.loading import *\n",
    "from modules.config import *"
   ],
   "id": "ddb99ccc2bd2be75",
   "outputs": [],
   "execution_count": 4
  },
  {
   "metadata": {
    "ExecuteTime": {
     "end_time": "2025-10-22T19:29:38.987275Z",
     "start_time": "2025-10-22T19:29:38.973183Z"
    }
   },
   "cell_type": "code",
   "source": [
    "# Configure the data needed\n",
    "config = config()\n",
    "config.start_date ='2016-01-01'\n",
    "config.end_date ='2024-12-31'\n",
    "config.freq = 'h' #en minuscule\n",
    "config.global_meteo = True # Must be etheir : True or False\n",
    "config.save_dir = './data/meteo_data.parquet.gz'"
   ],
   "id": "fe6a1f0b493ee7a0",
   "outputs": [],
   "execution_count": 5
  },
  {
   "metadata": {
    "ExecuteTime": {
     "end_time": "2025-10-22T19:30:49.022592Z",
     "start_time": "2025-10-22T19:29:39.005272Z"
    }
   },
   "cell_type": "code",
   "source": [
    "# Load the meteo data\n",
    "data = load_meteo_file(config, is_verbose=False)\n",
    "# Save the data to the specified directory\n",
    "data.to_parquet(config.save_dir, compression='gzip')"
   ],
   "id": "256f1d1bad28658a",
   "outputs": [],
   "execution_count": 6
  }
 ],
 "metadata": {
  "kernelspec": {
   "display_name": "Python 3",
   "language": "python",
   "name": "python3"
  },
  "language_info": {
   "codemirror_mode": {
    "name": "ipython",
    "version": 2
   },
   "file_extension": ".py",
   "mimetype": "text/x-python",
   "name": "python",
   "nbconvert_exporter": "python",
   "pygments_lexer": "ipython2",
   "version": "2.7.6"
  }
 },
 "nbformat": 4,
 "nbformat_minor": 5
}
